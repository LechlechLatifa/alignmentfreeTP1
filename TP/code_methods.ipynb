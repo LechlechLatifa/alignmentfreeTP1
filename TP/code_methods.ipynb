{
 "cells": [
  {
   "cell_type": "markdown",
   "metadata": {},
   "source": [
    "# TME 2: Part 2 sketches\n",
    "by Latifa LECHLECH & Félix LACOUR"
   ]
  },
  {
   "cell_type": "code",
   "execution_count": 18,
   "metadata": {},
   "outputs": [],
   "source": [
    "# Import libraries \n",
    "from collections import OrderedDict\n",
    "from itertools import islice"
   ]
  },
  {
   "cell_type": "markdown",
   "metadata": {},
   "source": [
    "## 1. Basic Concepts in Sequence Alignment:\n",
    "\n",
    "* Objective: To align sequences by maximizing matches and minimizing gaps or mismatches.\n",
    "* Types:\n",
    "    * Global Alignment: Aligns sequences from end to end, best for similar sequences.\n",
    "    * Local Alignment: Finds regions of high similarity within parts of the sequences, useful for partially similar sequences.\n",
    "\n",
    "## 2. Scoring Systems\n",
    "\n",
    "* Match Score: Points awarded for identical positions.\n",
    "* Mismatch Penalty: Penalty for non-matching positions.\n",
    "* Gap Penalty: Penalty for gaps (insertions/deletions). Gap penalties can be linear (constant penalty per gap) or affine (higher penalty for starting a gap than for extending one).\n",
    "\n",
    "## 3. Alignment Algorithms\n",
    "\n",
    "* Needleman-Wunsch Algorithm (Global Alignment):\n",
    "    * Uses dynamic programming to maximize the overall score across the entire sequence.\n",
    "    * Suitable for aligning sequences of similar length.\n",
    "* Smith-Waterman Algorithm (Local Alignment):\n",
    "    * Also uses dynamic programming but focuses on maximizing local similarity.\n",
    "    * Allows for partial overlaps and is useful for sequences with low similarity.\n",
    "\n",
    "## 4. The computational challenges associated with aligning large datasets\n",
    "* High Computational Cost of Alignment\n",
    "* Memory Usage Constraints\n",
    "* Speed Requirements in Large-Scale Studies\n",
    "* Redundant Computation in High-Similarity Sequences\n",
    "\n",
    "## 5. Sketching in Sequence Alignment\n",
    "The primary motivation for using sketching in sequence alignment is to overcome the computational challenges associated with aligning large datasets or extremely long sequences, such as entire genomes or metagenomes. \n",
    "\n",
    "Sketching is a technique used to create a compact, representative \"sketch\" of the sequence to make large-scale alignments faster. Instead of comparing whole sequences directly, we compare sketches "
   ]
  },
  {
   "cell_type": "markdown",
   "metadata": {},
   "source": [
    "### 5.1. MinHash Sketching:\n",
    "Concept: Converts sequences into sets of k-mers (subsequences of length k) and hashes them to generate a sketch.\n",
    "Hash Functions: Random hash functions are applied to k-mers. The lowest hash values are kept as the \"sketch.\"\n",
    "Comparison: The similarity between sequences is estimated based on the similarity of their sketches.\n",
    "Advantage: Reduces computational cost and memory usage, making it suitable for large datasets or when performing multiple alignments."
   ]
  },
  {
   "cell_type": "markdown",
   "metadata": {},
   "source": [
    "## Practical Steps for Sequence Alignment with Sketching\n",
    "* Pre-process sequences by generating k-mers.\n",
    "* Generate a MinHash sketch for each sequence.\n",
    "* Compare sketches to estimate similarity scores.\n",
    "* Align sequences based on sketches if the similarity is above a threshold."
   ]
  },
  {
   "cell_type": "code",
   "execution_count": 20,
   "metadata": {},
   "outputs": [],
   "source": [
    "def solution_1_1(sequence, k=3, s=3): \n",
    "    \"\"\"\n",
    "    In this method the goal is to create a dictionary sorted in alphabetic order (for keys and items).\n",
    "    Convert it to a list and return the first s (size of sketch) values.\n",
    "    \"\"\"\n",
    "    tokens_dict = {}\n",
    "    # Iterate through each character to categorize by the first letter\n",
    "    for i in range(0, len(sequence)-k+1):\n",
    "        token = sequence[i:i+k]\n",
    "        first_letter = token[0]\n",
    "        # Initialize list if the first letter key doesn't exist\n",
    "        if first_letter not in tokens_dict:\n",
    "            tokens_dict[first_letter] = []\n",
    "        # Append token to the list of the corresponding first letter\n",
    "        tokens_dict[first_letter].append(token)\n",
    "\n",
    "    # Sort the dictionary by keys in alphabetical order\n",
    "    ordered_tokens_dict = OrderedDict(sorted(tokens_dict.items()))\n",
    "\n",
    "    # Collect the first three unique tokens\n",
    "    final_tokens = []\n",
    "    for tokens in ordered_tokens_dict.values():\n",
    "        for token in tokens:\n",
    "            if len(final_tokens) < 3:\n",
    "                final_tokens.append(token)\n",
    "            else:\n",
    "                break\n",
    "        if len(final_tokens) >= 3:\n",
    "            break\n",
    "\n",
    "    return final_tokens"
   ]
  },
  {
   "cell_type": "code",
   "execution_count": 25,
   "metadata": {},
   "outputs": [],
   "source": [
    "def solution_1_2(sequence, k=3, s=3): \n",
    "    \"\"\"\n",
    "    In this method the goal is to create a list of top kmers (in alphabetic order). \n",
    "    \"\"\"\n",
    "    # Initialization \n",
    "    final_k_mers = [float('inf')] * 3\n",
    "    max_index = 0\n",
    "    #  I have to add stream_k_mers function ++++++++++++++++++++++++++++++++++++++++++++++++++\n",
    "    for k_mer in stream_k_mers(sequence, k):\n",
    "        print(k_mer)\n",
    "        # if k_mer < final_k_mers[max_index]:\n",
    "            final_k_mers[max_index] = k_mer\n",
    "            max_index = max(final_k_mers)\n",
    "    return final_k_mers"
   ]
  },
  {
   "cell_type": "code",
   "execution_count": 21,
   "metadata": {},
   "outputs": [
    {
     "data": {
      "text/plain": [
       "['ATT', 'ATT', 'GAT']"
      ]
     },
     "execution_count": 21,
     "metadata": {},
     "output_type": "execute_result"
    }
   ],
   "source": [
    "sequence = 'GATTATT'\n",
    "k = 3 \n",
    "s = 3 \n",
    "print(solution_1_1(sequence, k=3, s=3))\n",
    "print(solution_1_2(sequence, k=3, s=3))"
   ]
  },
  {
   "cell_type": "markdown",
   "metadata": {},
   "source": [
    "-----"
   ]
  },
  {
   "cell_type": "markdown",
   "metadata": {},
   "source": [
    "# Intersting Papers: \n",
    "## Sketching and Sequence Alignment: A Rate-Distortion Perspective \n",
    "by Ilan Shomorony and Govinda M. Kamath\n",
    "\n",
    "The paper aims to improve the efficiency of pairwise DNA sequence alignment by developing a new sketching algorithm called \"locational hashing,\" designed to reduce computational load while maintaining alignment accuracy."
   ]
  }
 ],
 "metadata": {
  "kernelspec": {
   "display_name": "Python 3",
   "language": "python",
   "name": "python3"
  },
  "language_info": {
   "codemirror_mode": {
    "name": "ipython",
    "version": 3
   },
   "file_extension": ".py",
   "mimetype": "text/x-python",
   "name": "python",
   "nbconvert_exporter": "python",
   "pygments_lexer": "ipython3",
   "version": "3.12.2"
  }
 },
 "nbformat": 4,
 "nbformat_minor": 2
}
